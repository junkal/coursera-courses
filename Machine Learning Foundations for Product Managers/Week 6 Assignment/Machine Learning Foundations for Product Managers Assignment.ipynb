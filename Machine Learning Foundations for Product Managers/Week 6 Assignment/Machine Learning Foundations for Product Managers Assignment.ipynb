{
 "cells": [
  {
   "cell_type": "markdown",
   "id": "86205ef1",
   "metadata": {},
   "source": [
    "# Machine Learning Foundation for Product Managers\n",
    "\n",
    "## Course Assignment\n",
    "\n",
    "#### Objective: To build a machine learning model to predict the electricity output of a Combined Cycle Power Plant"
   ]
  },
  {
   "cell_type": "markdown",
   "id": "09ddabf6",
   "metadata": {},
   "source": [
    "## Exploratory Data Analysis"
   ]
  },
  {
   "cell_type": "code",
   "execution_count": 1,
   "id": "4c8e4404",
   "metadata": {},
   "outputs": [
    {
     "name": "stdout",
     "output_type": "stream",
     "text": [
      "Data shape: (9568, 5)\n",
      "Column names: Index(['AT', 'V', 'AP', 'RH', 'PE'], dtype='object')\n"
     ]
    },
    {
     "data": {
      "text/html": [
       "<div>\n",
       "<style scoped>\n",
       "    .dataframe tbody tr th:only-of-type {\n",
       "        vertical-align: middle;\n",
       "    }\n",
       "\n",
       "    .dataframe tbody tr th {\n",
       "        vertical-align: top;\n",
       "    }\n",
       "\n",
       "    .dataframe thead th {\n",
       "        text-align: right;\n",
       "    }\n",
       "</style>\n",
       "<table border=\"1\" class=\"dataframe\">\n",
       "  <thead>\n",
       "    <tr style=\"text-align: right;\">\n",
       "      <th></th>\n",
       "      <th>AT</th>\n",
       "      <th>V</th>\n",
       "      <th>AP</th>\n",
       "      <th>RH</th>\n",
       "      <th>PE</th>\n",
       "    </tr>\n",
       "  </thead>\n",
       "  <tbody>\n",
       "    <tr>\n",
       "      <th>0</th>\n",
       "      <td>14.96</td>\n",
       "      <td>41.76</td>\n",
       "      <td>1024.07</td>\n",
       "      <td>73.17</td>\n",
       "      <td>463.26</td>\n",
       "    </tr>\n",
       "    <tr>\n",
       "      <th>1</th>\n",
       "      <td>25.18</td>\n",
       "      <td>62.96</td>\n",
       "      <td>1020.04</td>\n",
       "      <td>59.08</td>\n",
       "      <td>444.37</td>\n",
       "    </tr>\n",
       "    <tr>\n",
       "      <th>2</th>\n",
       "      <td>5.11</td>\n",
       "      <td>39.40</td>\n",
       "      <td>1012.16</td>\n",
       "      <td>92.14</td>\n",
       "      <td>488.56</td>\n",
       "    </tr>\n",
       "    <tr>\n",
       "      <th>3</th>\n",
       "      <td>20.86</td>\n",
       "      <td>57.32</td>\n",
       "      <td>1010.24</td>\n",
       "      <td>76.64</td>\n",
       "      <td>446.48</td>\n",
       "    </tr>\n",
       "    <tr>\n",
       "      <th>4</th>\n",
       "      <td>10.82</td>\n",
       "      <td>37.50</td>\n",
       "      <td>1009.23</td>\n",
       "      <td>96.62</td>\n",
       "      <td>473.90</td>\n",
       "    </tr>\n",
       "    <tr>\n",
       "      <th>5</th>\n",
       "      <td>26.27</td>\n",
       "      <td>59.44</td>\n",
       "      <td>1012.23</td>\n",
       "      <td>58.77</td>\n",
       "      <td>443.67</td>\n",
       "    </tr>\n",
       "    <tr>\n",
       "      <th>6</th>\n",
       "      <td>15.89</td>\n",
       "      <td>43.96</td>\n",
       "      <td>1014.02</td>\n",
       "      <td>75.24</td>\n",
       "      <td>467.35</td>\n",
       "    </tr>\n",
       "    <tr>\n",
       "      <th>7</th>\n",
       "      <td>9.48</td>\n",
       "      <td>44.71</td>\n",
       "      <td>1019.12</td>\n",
       "      <td>66.43</td>\n",
       "      <td>478.42</td>\n",
       "    </tr>\n",
       "    <tr>\n",
       "      <th>8</th>\n",
       "      <td>14.64</td>\n",
       "      <td>45.00</td>\n",
       "      <td>1021.78</td>\n",
       "      <td>41.25</td>\n",
       "      <td>475.98</td>\n",
       "    </tr>\n",
       "    <tr>\n",
       "      <th>9</th>\n",
       "      <td>11.74</td>\n",
       "      <td>43.56</td>\n",
       "      <td>1015.14</td>\n",
       "      <td>70.72</td>\n",
       "      <td>477.50</td>\n",
       "    </tr>\n",
       "  </tbody>\n",
       "</table>\n",
       "</div>"
      ],
      "text/plain": [
       "      AT      V       AP     RH      PE\n",
       "0  14.96  41.76  1024.07  73.17  463.26\n",
       "1  25.18  62.96  1020.04  59.08  444.37\n",
       "2   5.11  39.40  1012.16  92.14  488.56\n",
       "3  20.86  57.32  1010.24  76.64  446.48\n",
       "4  10.82  37.50  1009.23  96.62  473.90\n",
       "5  26.27  59.44  1012.23  58.77  443.67\n",
       "6  15.89  43.96  1014.02  75.24  467.35\n",
       "7   9.48  44.71  1019.12  66.43  478.42\n",
       "8  14.64  45.00  1021.78  41.25  475.98\n",
       "9  11.74  43.56  1015.14  70.72  477.50"
      ]
     },
     "execution_count": 1,
     "metadata": {},
     "output_type": "execute_result"
    }
   ],
   "source": [
    "import pandas as pd\n",
    "\n",
    "data = pd.read_csv('CCPP_data.csv')\n",
    "print(\"Data shape: {}\".format(data.shape))\n",
    "print(\"Column names: {}\".format(data.columns))\n",
    "data.head(10)"
   ]
  },
  {
   "cell_type": "code",
   "execution_count": 2,
   "id": "6653feb3",
   "metadata": {},
   "outputs": [
    {
     "data": {
      "text/html": [
       "<div>\n",
       "<style scoped>\n",
       "    .dataframe tbody tr th:only-of-type {\n",
       "        vertical-align: middle;\n",
       "    }\n",
       "\n",
       "    .dataframe tbody tr th {\n",
       "        vertical-align: top;\n",
       "    }\n",
       "\n",
       "    .dataframe thead th {\n",
       "        text-align: right;\n",
       "    }\n",
       "</style>\n",
       "<table border=\"1\" class=\"dataframe\">\n",
       "  <thead>\n",
       "    <tr style=\"text-align: right;\">\n",
       "      <th></th>\n",
       "      <th>AT</th>\n",
       "      <th>V</th>\n",
       "      <th>AP</th>\n",
       "      <th>RH</th>\n",
       "      <th>PE</th>\n",
       "    </tr>\n",
       "  </thead>\n",
       "  <tbody>\n",
       "    <tr>\n",
       "      <th>count</th>\n",
       "      <td>9568.000000</td>\n",
       "      <td>9568.000000</td>\n",
       "      <td>9568.000000</td>\n",
       "      <td>9568.000000</td>\n",
       "      <td>9568.000000</td>\n",
       "    </tr>\n",
       "    <tr>\n",
       "      <th>mean</th>\n",
       "      <td>19.651231</td>\n",
       "      <td>54.305804</td>\n",
       "      <td>1013.259078</td>\n",
       "      <td>73.308978</td>\n",
       "      <td>454.365009</td>\n",
       "    </tr>\n",
       "    <tr>\n",
       "      <th>std</th>\n",
       "      <td>7.452473</td>\n",
       "      <td>12.707893</td>\n",
       "      <td>5.938784</td>\n",
       "      <td>14.600269</td>\n",
       "      <td>17.066995</td>\n",
       "    </tr>\n",
       "    <tr>\n",
       "      <th>min</th>\n",
       "      <td>1.810000</td>\n",
       "      <td>25.360000</td>\n",
       "      <td>992.890000</td>\n",
       "      <td>25.560000</td>\n",
       "      <td>420.260000</td>\n",
       "    </tr>\n",
       "    <tr>\n",
       "      <th>25%</th>\n",
       "      <td>13.510000</td>\n",
       "      <td>41.740000</td>\n",
       "      <td>1009.100000</td>\n",
       "      <td>63.327500</td>\n",
       "      <td>439.750000</td>\n",
       "    </tr>\n",
       "    <tr>\n",
       "      <th>50%</th>\n",
       "      <td>20.345000</td>\n",
       "      <td>52.080000</td>\n",
       "      <td>1012.940000</td>\n",
       "      <td>74.975000</td>\n",
       "      <td>451.550000</td>\n",
       "    </tr>\n",
       "    <tr>\n",
       "      <th>75%</th>\n",
       "      <td>25.720000</td>\n",
       "      <td>66.540000</td>\n",
       "      <td>1017.260000</td>\n",
       "      <td>84.830000</td>\n",
       "      <td>468.430000</td>\n",
       "    </tr>\n",
       "    <tr>\n",
       "      <th>max</th>\n",
       "      <td>37.110000</td>\n",
       "      <td>81.560000</td>\n",
       "      <td>1033.300000</td>\n",
       "      <td>100.160000</td>\n",
       "      <td>495.760000</td>\n",
       "    </tr>\n",
       "  </tbody>\n",
       "</table>\n",
       "</div>"
      ],
      "text/plain": [
       "                AT            V           AP           RH           PE\n",
       "count  9568.000000  9568.000000  9568.000000  9568.000000  9568.000000\n",
       "mean     19.651231    54.305804  1013.259078    73.308978   454.365009\n",
       "std       7.452473    12.707893     5.938784    14.600269    17.066995\n",
       "min       1.810000    25.360000   992.890000    25.560000   420.260000\n",
       "25%      13.510000    41.740000  1009.100000    63.327500   439.750000\n",
       "50%      20.345000    52.080000  1012.940000    74.975000   451.550000\n",
       "75%      25.720000    66.540000  1017.260000    84.830000   468.430000\n",
       "max      37.110000    81.560000  1033.300000   100.160000   495.760000"
      ]
     },
     "execution_count": 2,
     "metadata": {},
     "output_type": "execute_result"
    }
   ],
   "source": [
    "data.describe()"
   ]
  },
  {
   "cell_type": "markdown",
   "id": "5234a365",
   "metadata": {},
   "source": [
    "The dataset contains 9,568 rows of records where each record is the hourly average ambient environmental readings from sensors at the power plant. There are 5 columns in the dataset, labelled as 'AT', 'V', 'AP', 'RH' & 'PE'.\n",
    "\n",
    "**AT**: Average Temperature, in the range of 1.81°C (min) to 37.11°C (max)\n",
    "**V**: Exhaust Vacuum , in the range of (min) 25.36 cm Hg to (max) 81.56 cm Hg\n",
    "**AP**: Ambient Pressure, in the range of (min) 992.89 milibar to (max) 1033.30 milibar\n",
    "**RH**: Relative Humidity, in the range of (min) 25.56% to (max) 100.16%\n",
    "**PE**: Net hourly electrical energy output, in the range of (min) 420.26 MW to (max) 495.76 MW\n",
    "\n",
    "PE is the target variable we are trying to predict for the machine learning model"
   ]
  },
  {
   "cell_type": "markdown",
   "id": "65571660",
   "metadata": {},
   "source": [
    "We make sure that there are no missing data in the data set"
   ]
  },
  {
   "cell_type": "code",
   "execution_count": 3,
   "id": "72fbdeba",
   "metadata": {},
   "outputs": [
    {
     "name": "stdout",
     "output_type": "stream",
     "text": [
      "AT    False\n",
      "V     False\n",
      "AP    False\n",
      "RH    False\n",
      "PE    False\n",
      "dtype: bool\n"
     ]
    }
   ],
   "source": [
    "print(data.isnull().any())"
   ]
  },
  {
   "cell_type": "markdown",
   "id": "bc04dbdb",
   "metadata": {},
   "source": [
    "We now prepare the data for model training and validation. The steps are:\n",
    "1. Assign column 'PE' as the Target Variable\n",
    "2. Drop the column 'PE' from the training dataset\n",
    "3. Split the training dataset into TRAIN set and TEST set at a 80:20 ratio"
   ]
  },
  {
   "cell_type": "code",
   "execution_count": 4,
   "id": "30c9ad4d",
   "metadata": {},
   "outputs": [],
   "source": [
    "from sklearn.model_selection import train_test_split\n",
    "\n",
    "# set column 'PE' as the target variable\n",
    "Y = data['PE'].values\n",
    "\n",
    "# drop column 'PE' from the training set \n",
    "X = data.drop('PE', axis = 1).values\n",
    "\n",
    "# Split the data set into TRAIN set and TEST set at a 80:20 ratio\n",
    "X_train, X_test, Y_train, Y_test = train_test_split (X, \n",
    "                                                     Y, \n",
    "                                                     test_size = 0.20, \n",
    "                                                     random_state=42)"
   ]
  },
  {
   "cell_type": "markdown",
   "id": "a8a2cf05",
   "metadata": {},
   "source": [
    "## Modeling Approach\n",
    "\n",
    "### Use of Linear Regression model\n",
    "\n",
    "A conventional Linear Regression model is used as the first model. All the 4 columns are used as input parameters to predict the target variable 'PE'. \n",
    "\n",
    "**R2** and **Mean Square Error** will be used to validate the Linear Regression model on the Test set."
   ]
  },
  {
   "cell_type": "code",
   "execution_count": 5,
   "id": "fb15769e",
   "metadata": {},
   "outputs": [
    {
     "name": "stdout",
     "output_type": "stream",
     "text": [
      "Linear Regression Model coefficients: [-1.98589969 -0.23209358  0.06219991 -0.15811779]\n"
     ]
    }
   ],
   "source": [
    "from sklearn.linear_model import LinearRegression\n",
    "\n",
    "LR_model = LinearRegression()\n",
    "LR_model.fit(X_train, Y_train)\n",
    "print(\"Linear Regression Model coefficients: {}\".format(LR_model.coef_))"
   ]
  },
  {
   "cell_type": "markdown",
   "id": "7ff48a67",
   "metadata": {},
   "source": [
    "**R2 score** is also known as the Coefficient of determination. It is used evaluate the performance of a linear regression model. It is used to check how well-observed results are reproduced by the model, depending on the ratio of total deviation of results described by the model.\n",
    "\n",
    "**Mean Square Error** is an estimator measures the average of error squares (the average squared difference between the estimated values and true value). It is always non – negative and values close to zero are better."
   ]
  },
  {
   "cell_type": "code",
   "execution_count": 6,
   "id": "368288f1",
   "metadata": {},
   "outputs": [
    {
     "name": "stdout",
     "output_type": "stream",
     "text": [
      "R2 Score: 0.9301\n",
      "Mean Square Error: 20.2737\n"
     ]
    }
   ],
   "source": [
    "from sklearn.metrics import r2_score\n",
    "from sklearn.metrics import mean_squared_error\n",
    "\n",
    "#validate model on test set\n",
    "predictions = LR_model.predict(X_test)\n",
    "\n",
    "print (\"R2 Score: {0:.4f}\".format(r2_score(Y_test, predictions)))\n",
    "print (\"Mean Square Error: {0:.4f}\".format(mean_squared_error(Y_test, \n",
    "                                                              predictions)))"
   ]
  },
  {
   "cell_type": "markdown",
   "id": "1cacc58f",
   "metadata": {},
   "source": [
    "### Use of Gradient Boosting Regression model\n",
    "\n",
    "A Gradient Boosting Regression model is used as the second model for comparison. All the 4 columns are used as input parameters to predict the target variable 'PE'. \n",
    "\n",
    "**R2** and **Mean Square Error** will be used to validate the Gradient Boosting Regression model on the Test set."
   ]
  },
  {
   "cell_type": "code",
   "execution_count": 7,
   "id": "e5c19316",
   "metadata": {},
   "outputs": [
    {
     "data": {
      "text/plain": [
       "GradientBoostingRegressor(n_estimators=400, random_state=21)"
      ]
     },
     "execution_count": 7,
     "metadata": {},
     "output_type": "execute_result"
    }
   ],
   "source": [
    "from sklearn.ensemble import GradientBoostingRegressor\n",
    "\n",
    "GB_model = GradientBoostingRegressor(random_state=21, n_estimators=400)\n",
    "GB_model.fit(X_train, Y_train)"
   ]
  },
  {
   "cell_type": "code",
   "execution_count": 8,
   "id": "fd2fda70",
   "metadata": {},
   "outputs": [
    {
     "name": "stdout",
     "output_type": "stream",
     "text": [
      "R2 Score: 0.9606\n",
      "Mean Square Error: 11.4333\n"
     ]
    }
   ],
   "source": [
    "#validate model on test set\n",
    "predictions = GB_model.predict(X_test)\n",
    "\n",
    "print (\"R2 Score: {0:.4f}\".format(r2_score(Y_test, predictions)))\n",
    "print (\"Mean Square Error: {0:.4f}\".format(mean_squared_error(Y_test, predictions)))"
   ]
  },
  {
   "cell_type": "code",
   "execution_count": null,
   "id": "89e6ce7d",
   "metadata": {},
   "outputs": [],
   "source": []
  }
 ],
 "metadata": {
  "kernelspec": {
   "display_name": "Python 3 (ipykernel)",
   "language": "python",
   "name": "python3"
  },
  "language_info": {
   "codemirror_mode": {
    "name": "ipython",
    "version": 3
   },
   "file_extension": ".py",
   "mimetype": "text/x-python",
   "name": "python",
   "nbconvert_exporter": "python",
   "pygments_lexer": "ipython3",
   "version": "3.7.11"
  }
 },
 "nbformat": 4,
 "nbformat_minor": 5
}
